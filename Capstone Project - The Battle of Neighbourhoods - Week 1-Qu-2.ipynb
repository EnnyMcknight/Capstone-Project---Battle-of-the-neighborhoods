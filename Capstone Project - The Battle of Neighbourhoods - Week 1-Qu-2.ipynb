{
 "cells": [
  {
   "cell_type": "markdown",
   "metadata": {},
   "source": [
    "# Capstone Project - The Battle of Neighbourhoods - Week 1, Qu 2\n",
    "## Data\n"
   ]
  },
  {
   "cell_type": "markdown",
   "metadata": {},
   "source": [
    "### 2. A description of the data and how it will be used to solve the problem. \n",
    "\n",
    "### 2.1 Data description"
   ]
  },
  {
   "cell_type": "markdown",
   "metadata": {},
   "source": [
    "This project will utilize publicly available data from Wikipedia and Foursquare.\n",
    "\n",
    "Specifically, all Calgary neighborhood details along with their postal codes are available here: https://en.wikipedia.org/wiki/List_of_postal_codes_of_Canada:_T\n",
    "\n",
    "The focus of this project will be the Calgary neighborhoods that will be extracted and analyzed accordingly.\n",
    "\n",
    "The Foursquare API will be utilized to obtain the geographical location data for Calgary, and data will be used to explore the restaurant venues in the neighbourhoods. The restaurants will provide the categories needed for the analysis and these will be used to determine the viability of the selected locations for the restaurant."
   ]
  },
  {
   "cell_type": "markdown",
   "metadata": {},
   "source": [
    "### 2.2 How data will be used to solve the problem\n",
    "\n",
    "The data from Wikipedia and Foursquare will be explored and analyzed by considering the restaurant venues in Calgary. The restaurants from the core of the city will be reviewed in terms of the types or categories of restaurants within a specific radius.\n",
    "\n",
    "The data will be utilized to come up with a frequency analysis for an African restaurant in Calgary, and to come up with the best choices of neighborhoods for my client."
   ]
  },
  {
   "cell_type": "code",
   "execution_count": null,
   "metadata": {},
   "outputs": [],
   "source": []
  }
 ],
 "metadata": {
  "kernelspec": {
   "display_name": "Python",
   "language": "python",
   "name": "conda-env-python-py"
  },
  "language_info": {
   "codemirror_mode": {
    "name": "ipython",
    "version": 3
   },
   "file_extension": ".py",
   "mimetype": "text/x-python",
   "name": "python",
   "nbconvert_exporter": "python",
   "pygments_lexer": "ipython3",
   "version": "3.6.10"
  }
 },
 "nbformat": 4,
 "nbformat_minor": 4
}
