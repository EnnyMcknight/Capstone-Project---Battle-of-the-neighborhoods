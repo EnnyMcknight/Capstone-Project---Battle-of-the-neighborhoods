{
 "cells": [
  {
   "cell_type": "markdown",
   "metadata": {},
   "source": [
    "# Capstone Project - The Battle of Neighbourhoods - Week 1, Qu 1\n",
    "## 1. Introduction\n",
    "### A description of the problem"
   ]
  },
  {
   "cell_type": "markdown",
   "metadata": {},
   "source": [
    "This project aims to provide a solution for investors and entrepreneurs who desire to open a restaurant in Calgary, Canada and need to find the best location for their business."
   ]
  },
  {
   "cell_type": "markdown",
   "metadata": {},
   "source": [
    "### 1.1 Background\n",
    "\n",
    "Anyone that works in the restaurant, service, and hospitality industry knows that it’s not a “get rich quick” type of career. It takes time, hard work, and dedication to be successful.  Even still, a study by Ohio State University reveals that nearly 60% of restaurants close or change ownership within the first year and 80% fail within the first 5 years.\n",
    "\n",
    "To achieve great success in establishing a new restaurant, it depends on several factors: demand, brand loyalty, quality of food, competition, and so on. In most cases, a restaurant’s location plays an essential determinant for its success. Hence, it is advantageous and of utmost importance to determine the most strategic location for establishment in order to maximize business profits.\n"
   ]
  },
  {
   "cell_type": "markdown",
   "metadata": {},
   "source": [
    "### 1.2 Business Problem\n",
    "\n",
    "A client seeks to establish a franchised African restaurant, with a niche in Southwest Nigeria cuisine, in a Calgary neighborhood. \n",
    "Which neighbourhood would appear to be the optimal and most strategic location for the business operations?\n",
    "\n",
    "The objective of this capstone project is to locate the optimal neighborhood for operation. Our foundation of reasoning would be based on spending power, distribution of ethnic group, and competition, across each neighbourhood. We will mainly be utilizing the Foursquare API and the extensive geographical and census data from Calgary’s Open Data Portal."
   ]
  }
 ],
 "metadata": {
  "kernelspec": {
   "display_name": "Python",
   "language": "python",
   "name": "conda-env-python-py"
  },
  "language_info": {
   "codemirror_mode": {
    "name": "ipython",
    "version": 3
   },
   "file_extension": ".py",
   "mimetype": "text/x-python",
   "name": "python",
   "nbconvert_exporter": "python",
   "pygments_lexer": "ipython3",
   "version": "3.6.10"
  }
 },
 "nbformat": 4,
 "nbformat_minor": 4
}
